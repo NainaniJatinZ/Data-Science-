{
  "nbformat": 4,
  "nbformat_minor": 0,
  "metadata": {
    "colab": {
      "name": "Jatin_Nainani_Grey_Campus_Project.ipynb",
      "provenance": []
    },
    "kernelspec": {
      "name": "python3",
      "display_name": "Python 3"
    }
  },
  "cells": [
    {
      "cell_type": "code",
      "metadata": {
        "id": "0cMe8BGuUcTh"
      },
      "source": [
        "#Importing libraries\r\n",
        "import numpy as np\r\n",
        "import pandas as pd"
      ],
      "execution_count": 1,
      "outputs": []
    },
    {
      "cell_type": "code",
      "metadata": {
        "id": "OEaocbwQUldS"
      },
      "source": [
        "#importing dataset\r\n",
        "data = pd.read_csv('50_Startups.csv')"
      ],
      "execution_count": 10,
      "outputs": []
    },
    {
      "cell_type": "code",
      "metadata": {
        "id": "eSXZerbFUn1O"
      },
      "source": [
        "data.head()"
      ],
      "execution_count": null,
      "outputs": []
    },
    {
      "cell_type": "code",
      "metadata": {
        "colab": {
          "base_uri": "https://localhost:8080/",
          "height": 406
        },
        "id": "SVF6AHACV2ko",
        "outputId": "2d8d78c0-149c-4a3e-bc63-9af30b020491"
      },
      "source": [
        "# Adding Null values\r\n",
        "\r\n",
        "data['Administration'] = data['Administration'].sample(frac=0.9)\r\n",
        "data.info()\r\n",
        "data.head()"
      ],
      "execution_count": 11,
      "outputs": [
        {
          "output_type": "stream",
          "text": [
            "<class 'pandas.core.frame.DataFrame'>\n",
            "RangeIndex: 50 entries, 0 to 49\n",
            "Data columns (total 5 columns):\n",
            " #   Column           Non-Null Count  Dtype  \n",
            "---  ------           --------------  -----  \n",
            " 0   R&D Spend        50 non-null     float64\n",
            " 1   Administration   45 non-null     float64\n",
            " 2   Marketing Spend  50 non-null     float64\n",
            " 3   State            50 non-null     object \n",
            " 4   Profit           50 non-null     float64\n",
            "dtypes: float64(4), object(1)\n",
            "memory usage: 2.1+ KB\n"
          ],
          "name": "stdout"
        },
        {
          "output_type": "execute_result",
          "data": {
            "text/html": [
              "<div>\n",
              "<style scoped>\n",
              "    .dataframe tbody tr th:only-of-type {\n",
              "        vertical-align: middle;\n",
              "    }\n",
              "\n",
              "    .dataframe tbody tr th {\n",
              "        vertical-align: top;\n",
              "    }\n",
              "\n",
              "    .dataframe thead th {\n",
              "        text-align: right;\n",
              "    }\n",
              "</style>\n",
              "<table border=\"1\" class=\"dataframe\">\n",
              "  <thead>\n",
              "    <tr style=\"text-align: right;\">\n",
              "      <th></th>\n",
              "      <th>R&amp;D Spend</th>\n",
              "      <th>Administration</th>\n",
              "      <th>Marketing Spend</th>\n",
              "      <th>State</th>\n",
              "      <th>Profit</th>\n",
              "    </tr>\n",
              "  </thead>\n",
              "  <tbody>\n",
              "    <tr>\n",
              "      <th>0</th>\n",
              "      <td>165349.20</td>\n",
              "      <td>136897.80</td>\n",
              "      <td>471784.10</td>\n",
              "      <td>New York</td>\n",
              "      <td>192261.83</td>\n",
              "    </tr>\n",
              "    <tr>\n",
              "      <th>1</th>\n",
              "      <td>162597.70</td>\n",
              "      <td>151377.59</td>\n",
              "      <td>443898.53</td>\n",
              "      <td>California</td>\n",
              "      <td>191792.06</td>\n",
              "    </tr>\n",
              "    <tr>\n",
              "      <th>2</th>\n",
              "      <td>153441.51</td>\n",
              "      <td>101145.55</td>\n",
              "      <td>407934.54</td>\n",
              "      <td>Florida</td>\n",
              "      <td>191050.39</td>\n",
              "    </tr>\n",
              "    <tr>\n",
              "      <th>3</th>\n",
              "      <td>144372.41</td>\n",
              "      <td>118671.85</td>\n",
              "      <td>383199.62</td>\n",
              "      <td>New York</td>\n",
              "      <td>182901.99</td>\n",
              "    </tr>\n",
              "    <tr>\n",
              "      <th>4</th>\n",
              "      <td>142107.34</td>\n",
              "      <td>91391.77</td>\n",
              "      <td>366168.42</td>\n",
              "      <td>Florida</td>\n",
              "      <td>166187.94</td>\n",
              "    </tr>\n",
              "  </tbody>\n",
              "</table>\n",
              "</div>"
            ],
            "text/plain": [
              "   R&D Spend  Administration  Marketing Spend       State     Profit\n",
              "0  165349.20       136897.80        471784.10    New York  192261.83\n",
              "1  162597.70       151377.59        443898.53  California  191792.06\n",
              "2  153441.51       101145.55        407934.54     Florida  191050.39\n",
              "3  144372.41       118671.85        383199.62    New York  182901.99\n",
              "4  142107.34        91391.77        366168.42     Florida  166187.94"
            ]
          },
          "metadata": {
            "tags": []
          },
          "execution_count": 11
        }
      ]
    },
    {
      "cell_type": "code",
      "metadata": {
        "id": "q2E-49VeW3bm"
      },
      "source": [
        "X = data.iloc[:,:-1].values\r\n",
        "y = data.iloc[:,[-1]].values"
      ],
      "execution_count": 16,
      "outputs": []
    },
    {
      "cell_type": "code",
      "metadata": {
        "colab": {
          "base_uri": "https://localhost:8080/"
        },
        "id": "5EkpAg7dW0jC",
        "outputId": "7cd39eb0-2cd3-4f0d-a232-a23dafc70afc"
      },
      "source": [
        "#Getting rid of the NaN values using the mean method\r\n",
        "from sklearn.impute import SimpleImputer\r\n",
        "imputer = SimpleImputer(missing_values=np.nan, strategy='mean')\r\n",
        "imputer.fit(X[:, 1:3])\r\n",
        "X[:, 1:3] = imputer.transform(X[:, 1:3])\r\n",
        "print(X)"
      ],
      "execution_count": 17,
      "outputs": [
        {
          "output_type": "stream",
          "text": [
            "[[165349.2 136897.8 471784.1 'New York']\n",
            " [162597.7 151377.59 443898.53 'California']\n",
            " [153441.51 101145.55 407934.54 'Florida']\n",
            " [144372.41 118671.85 383199.62 'New York']\n",
            " [142107.34 91391.77 366168.42 'Florida']\n",
            " [131876.9 99814.71 362861.36 'New York']\n",
            " [134615.46 147198.87 127716.82 'California']\n",
            " [130298.13 145530.06 323876.68 'Florida']\n",
            " [120542.52 148718.95 311613.29 'New York']\n",
            " [123334.88 108679.17 304981.62 'California']\n",
            " [101913.08 110594.11 229160.95 'Florida']\n",
            " [100671.96 91790.61 249744.55 'California']\n",
            " [93863.75 127320.38 249839.44 'Florida']\n",
            " [91992.39 119779.08511111111 252664.93 'California']\n",
            " [119943.24 119779.08511111111 256512.92 'Florida']\n",
            " [114523.61 122616.84 261776.23 'New York']\n",
            " [78013.11 121597.55 264346.06 'California']\n",
            " [94657.16 145077.58 282574.31 'New York']\n",
            " [91749.16 114175.79 294919.57 'Florida']\n",
            " [86419.7 119779.08511111111 0.0 'New York']\n",
            " [76253.86 113867.3 298664.47 'California']\n",
            " [78389.47 153773.43 299737.29 'New York']\n",
            " [73994.56 122782.75 303319.26 'Florida']\n",
            " [67532.53 105751.03 304768.73 'Florida']\n",
            " [77044.01 99281.34 140574.81 'New York']\n",
            " [64664.71 139553.16 137962.62 'California']\n",
            " [75328.87 144135.98 134050.07 'Florida']\n",
            " [72107.6 127864.55 353183.81 'New York']\n",
            " [66051.52 182645.56 118148.2 'Florida']\n",
            " [65605.48 153032.06 107138.38 'New York']\n",
            " [61994.48 115641.28 91131.24 'Florida']\n",
            " [61136.38 152701.92 88218.23 'New York']\n",
            " [63408.86 129219.61 46085.25 'California']\n",
            " [55493.95 103057.49 214634.81 'Florida']\n",
            " [46426.07 157693.92 210797.67 'California']\n",
            " [46014.02 85047.44 205517.64 'New York']\n",
            " [28663.76 127056.21 201126.82 'Florida']\n",
            " [44069.95 51283.14 197029.42 'California']\n",
            " [20229.59 65947.93 185265.1 'New York']\n",
            " [38558.51 82982.09 174999.3 'California']\n",
            " [28754.33 118546.05 172795.67 'California']\n",
            " [27892.92 84710.77 164470.71 'Florida']\n",
            " [23640.93 119779.08511111111 148001.11 'California']\n",
            " [15505.73 127382.3 35534.17 'New York']\n",
            " [22177.74 154806.14 28334.72 'California']\n",
            " [1000.23 124153.04 1903.93 'New York']\n",
            " [1315.46 115816.21 297114.46 'Florida']\n",
            " [0.0 119779.08511111111 0.0 'California']\n",
            " [542.05 51743.15 0.0 'New York']\n",
            " [0.0 116983.8 45173.06 'California']]\n"
          ],
          "name": "stdout"
        }
      ]
    },
    {
      "cell_type": "code",
      "metadata": {
        "colab": {
          "base_uri": "https://localhost:8080/"
        },
        "id": "aVF93FapXYTe",
        "outputId": "258ee6ed-c97b-492e-ac8e-da6d25f82a0b"
      },
      "source": [
        "#encoding categorical data to numeric\r\n",
        "from sklearn.preprocessing import OneHotEncoder\r\n",
        "from sklearn.compose import ColumnTransformer\r\n",
        "transformer = ColumnTransformer(transformers=[(\"OneHot\", OneHotEncoder(), [3])], remainder='passthrough')\r\n",
        "X = transformer.fit_transform(X.tolist())\r\n",
        "X"
      ],
      "execution_count": 20,
      "outputs": [
        {
          "output_type": "execute_result",
          "data": {
            "text/plain": [
              "array([[0.0, 0.0, 1.0, 165349.2, 136897.8, 471784.1],\n",
              "       [1.0, 0.0, 0.0, 162597.7, 151377.59, 443898.53],\n",
              "       [0.0, 1.0, 0.0, 153441.51, 101145.55, 407934.54],\n",
              "       [0.0, 0.0, 1.0, 144372.41, 118671.85, 383199.62],\n",
              "       [0.0, 1.0, 0.0, 142107.34, 91391.77, 366168.42],\n",
              "       [0.0, 0.0, 1.0, 131876.9, 99814.71, 362861.36],\n",
              "       [1.0, 0.0, 0.0, 134615.46, 147198.87, 127716.82],\n",
              "       [0.0, 1.0, 0.0, 130298.13, 145530.06, 323876.68],\n",
              "       [0.0, 0.0, 1.0, 120542.52, 148718.95, 311613.29],\n",
              "       [1.0, 0.0, 0.0, 123334.88, 108679.17, 304981.62],\n",
              "       [0.0, 1.0, 0.0, 101913.08, 110594.11, 229160.95],\n",
              "       [1.0, 0.0, 0.0, 100671.96, 91790.61, 249744.55],\n",
              "       [0.0, 1.0, 0.0, 93863.75, 127320.38, 249839.44],\n",
              "       [1.0, 0.0, 0.0, 91992.39, 119779.08511111111, 252664.93],\n",
              "       [0.0, 1.0, 0.0, 119943.24, 119779.08511111111, 256512.92],\n",
              "       [0.0, 0.0, 1.0, 114523.61, 122616.84, 261776.23],\n",
              "       [1.0, 0.0, 0.0, 78013.11, 121597.55, 264346.06],\n",
              "       [0.0, 0.0, 1.0, 94657.16, 145077.58, 282574.31],\n",
              "       [0.0, 1.0, 0.0, 91749.16, 114175.79, 294919.57],\n",
              "       [0.0, 0.0, 1.0, 86419.7, 119779.08511111111, 0.0],\n",
              "       [1.0, 0.0, 0.0, 76253.86, 113867.3, 298664.47],\n",
              "       [0.0, 0.0, 1.0, 78389.47, 153773.43, 299737.29],\n",
              "       [0.0, 1.0, 0.0, 73994.56, 122782.75, 303319.26],\n",
              "       [0.0, 1.0, 0.0, 67532.53, 105751.03, 304768.73],\n",
              "       [0.0, 0.0, 1.0, 77044.01, 99281.34, 140574.81],\n",
              "       [1.0, 0.0, 0.0, 64664.71, 139553.16, 137962.62],\n",
              "       [0.0, 1.0, 0.0, 75328.87, 144135.98, 134050.07],\n",
              "       [0.0, 0.0, 1.0, 72107.6, 127864.55, 353183.81],\n",
              "       [0.0, 1.0, 0.0, 66051.52, 182645.56, 118148.2],\n",
              "       [0.0, 0.0, 1.0, 65605.48, 153032.06, 107138.38],\n",
              "       [0.0, 1.0, 0.0, 61994.48, 115641.28, 91131.24],\n",
              "       [0.0, 0.0, 1.0, 61136.38, 152701.92, 88218.23],\n",
              "       [1.0, 0.0, 0.0, 63408.86, 129219.61, 46085.25],\n",
              "       [0.0, 1.0, 0.0, 55493.95, 103057.49, 214634.81],\n",
              "       [1.0, 0.0, 0.0, 46426.07, 157693.92, 210797.67],\n",
              "       [0.0, 0.0, 1.0, 46014.02, 85047.44, 205517.64],\n",
              "       [0.0, 1.0, 0.0, 28663.76, 127056.21, 201126.82],\n",
              "       [1.0, 0.0, 0.0, 44069.95, 51283.14, 197029.42],\n",
              "       [0.0, 0.0, 1.0, 20229.59, 65947.93, 185265.1],\n",
              "       [1.0, 0.0, 0.0, 38558.51, 82982.09, 174999.3],\n",
              "       [1.0, 0.0, 0.0, 28754.33, 118546.05, 172795.67],\n",
              "       [0.0, 1.0, 0.0, 27892.92, 84710.77, 164470.71],\n",
              "       [1.0, 0.0, 0.0, 23640.93, 119779.08511111111, 148001.11],\n",
              "       [0.0, 0.0, 1.0, 15505.73, 127382.3, 35534.17],\n",
              "       [1.0, 0.0, 0.0, 22177.74, 154806.14, 28334.72],\n",
              "       [0.0, 0.0, 1.0, 1000.23, 124153.04, 1903.93],\n",
              "       [0.0, 1.0, 0.0, 1315.46, 115816.21, 297114.46],\n",
              "       [1.0, 0.0, 0.0, 0.0, 119779.08511111111, 0.0],\n",
              "       [0.0, 0.0, 1.0, 542.05, 51743.15, 0.0],\n",
              "       [1.0, 0.0, 0.0, 0.0, 116983.8, 45173.06]], dtype=object)"
            ]
          },
          "metadata": {
            "tags": []
          },
          "execution_count": 20
        }
      ]
    },
    {
      "cell_type": "code",
      "metadata": {
        "id": "2EYrRx1RXNnu"
      },
      "source": [
        "X = X.astype(float)"
      ],
      "execution_count": 21,
      "outputs": []
    },
    {
      "cell_type": "code",
      "metadata": {
        "colab": {
          "base_uri": "https://localhost:8080/"
        },
        "id": "_506KO_1X7__",
        "outputId": "7a2164cb-4c76-43bd-d04e-a45eb6aab2a7"
      },
      "source": [
        "# dropping extra (3rd) column\r\n",
        "X = np.delete(X, 2, 1)\r\n",
        "X"
      ],
      "execution_count": 24,
      "outputs": [
        {
          "output_type": "execute_result",
          "data": {
            "text/plain": [
              "array([[0.00000000e+00, 0.00000000e+00, 1.65349200e+05, 1.36897800e+05,\n",
              "        4.71784100e+05],\n",
              "       [1.00000000e+00, 0.00000000e+00, 1.62597700e+05, 1.51377590e+05,\n",
              "        4.43898530e+05],\n",
              "       [0.00000000e+00, 1.00000000e+00, 1.53441510e+05, 1.01145550e+05,\n",
              "        4.07934540e+05],\n",
              "       [0.00000000e+00, 0.00000000e+00, 1.44372410e+05, 1.18671850e+05,\n",
              "        3.83199620e+05],\n",
              "       [0.00000000e+00, 1.00000000e+00, 1.42107340e+05, 9.13917700e+04,\n",
              "        3.66168420e+05],\n",
              "       [0.00000000e+00, 0.00000000e+00, 1.31876900e+05, 9.98147100e+04,\n",
              "        3.62861360e+05],\n",
              "       [1.00000000e+00, 0.00000000e+00, 1.34615460e+05, 1.47198870e+05,\n",
              "        1.27716820e+05],\n",
              "       [0.00000000e+00, 1.00000000e+00, 1.30298130e+05, 1.45530060e+05,\n",
              "        3.23876680e+05],\n",
              "       [0.00000000e+00, 0.00000000e+00, 1.20542520e+05, 1.48718950e+05,\n",
              "        3.11613290e+05],\n",
              "       [1.00000000e+00, 0.00000000e+00, 1.23334880e+05, 1.08679170e+05,\n",
              "        3.04981620e+05],\n",
              "       [0.00000000e+00, 1.00000000e+00, 1.01913080e+05, 1.10594110e+05,\n",
              "        2.29160950e+05],\n",
              "       [1.00000000e+00, 0.00000000e+00, 1.00671960e+05, 9.17906100e+04,\n",
              "        2.49744550e+05],\n",
              "       [0.00000000e+00, 1.00000000e+00, 9.38637500e+04, 1.27320380e+05,\n",
              "        2.49839440e+05],\n",
              "       [1.00000000e+00, 0.00000000e+00, 9.19923900e+04, 1.19779085e+05,\n",
              "        2.52664930e+05],\n",
              "       [0.00000000e+00, 1.00000000e+00, 1.19943240e+05, 1.19779085e+05,\n",
              "        2.56512920e+05],\n",
              "       [0.00000000e+00, 0.00000000e+00, 1.14523610e+05, 1.22616840e+05,\n",
              "        2.61776230e+05],\n",
              "       [1.00000000e+00, 0.00000000e+00, 7.80131100e+04, 1.21597550e+05,\n",
              "        2.64346060e+05],\n",
              "       [0.00000000e+00, 0.00000000e+00, 9.46571600e+04, 1.45077580e+05,\n",
              "        2.82574310e+05],\n",
              "       [0.00000000e+00, 1.00000000e+00, 9.17491600e+04, 1.14175790e+05,\n",
              "        2.94919570e+05],\n",
              "       [0.00000000e+00, 0.00000000e+00, 8.64197000e+04, 1.19779085e+05,\n",
              "        0.00000000e+00],\n",
              "       [1.00000000e+00, 0.00000000e+00, 7.62538600e+04, 1.13867300e+05,\n",
              "        2.98664470e+05],\n",
              "       [0.00000000e+00, 0.00000000e+00, 7.83894700e+04, 1.53773430e+05,\n",
              "        2.99737290e+05],\n",
              "       [0.00000000e+00, 1.00000000e+00, 7.39945600e+04, 1.22782750e+05,\n",
              "        3.03319260e+05],\n",
              "       [0.00000000e+00, 1.00000000e+00, 6.75325300e+04, 1.05751030e+05,\n",
              "        3.04768730e+05],\n",
              "       [0.00000000e+00, 0.00000000e+00, 7.70440100e+04, 9.92813400e+04,\n",
              "        1.40574810e+05],\n",
              "       [1.00000000e+00, 0.00000000e+00, 6.46647100e+04, 1.39553160e+05,\n",
              "        1.37962620e+05],\n",
              "       [0.00000000e+00, 1.00000000e+00, 7.53288700e+04, 1.44135980e+05,\n",
              "        1.34050070e+05],\n",
              "       [0.00000000e+00, 0.00000000e+00, 7.21076000e+04, 1.27864550e+05,\n",
              "        3.53183810e+05],\n",
              "       [0.00000000e+00, 1.00000000e+00, 6.60515200e+04, 1.82645560e+05,\n",
              "        1.18148200e+05],\n",
              "       [0.00000000e+00, 0.00000000e+00, 6.56054800e+04, 1.53032060e+05,\n",
              "        1.07138380e+05],\n",
              "       [0.00000000e+00, 1.00000000e+00, 6.19944800e+04, 1.15641280e+05,\n",
              "        9.11312400e+04],\n",
              "       [0.00000000e+00, 0.00000000e+00, 6.11363800e+04, 1.52701920e+05,\n",
              "        8.82182300e+04],\n",
              "       [1.00000000e+00, 0.00000000e+00, 6.34088600e+04, 1.29219610e+05,\n",
              "        4.60852500e+04],\n",
              "       [0.00000000e+00, 1.00000000e+00, 5.54939500e+04, 1.03057490e+05,\n",
              "        2.14634810e+05],\n",
              "       [1.00000000e+00, 0.00000000e+00, 4.64260700e+04, 1.57693920e+05,\n",
              "        2.10797670e+05],\n",
              "       [0.00000000e+00, 0.00000000e+00, 4.60140200e+04, 8.50474400e+04,\n",
              "        2.05517640e+05],\n",
              "       [0.00000000e+00, 1.00000000e+00, 2.86637600e+04, 1.27056210e+05,\n",
              "        2.01126820e+05],\n",
              "       [1.00000000e+00, 0.00000000e+00, 4.40699500e+04, 5.12831400e+04,\n",
              "        1.97029420e+05],\n",
              "       [0.00000000e+00, 0.00000000e+00, 2.02295900e+04, 6.59479300e+04,\n",
              "        1.85265100e+05],\n",
              "       [1.00000000e+00, 0.00000000e+00, 3.85585100e+04, 8.29820900e+04,\n",
              "        1.74999300e+05],\n",
              "       [1.00000000e+00, 0.00000000e+00, 2.87543300e+04, 1.18546050e+05,\n",
              "        1.72795670e+05],\n",
              "       [0.00000000e+00, 1.00000000e+00, 2.78929200e+04, 8.47107700e+04,\n",
              "        1.64470710e+05],\n",
              "       [1.00000000e+00, 0.00000000e+00, 2.36409300e+04, 1.19779085e+05,\n",
              "        1.48001110e+05],\n",
              "       [0.00000000e+00, 0.00000000e+00, 1.55057300e+04, 1.27382300e+05,\n",
              "        3.55341700e+04],\n",
              "       [1.00000000e+00, 0.00000000e+00, 2.21777400e+04, 1.54806140e+05,\n",
              "        2.83347200e+04],\n",
              "       [0.00000000e+00, 0.00000000e+00, 1.00023000e+03, 1.24153040e+05,\n",
              "        1.90393000e+03],\n",
              "       [0.00000000e+00, 1.00000000e+00, 1.31546000e+03, 1.15816210e+05,\n",
              "        2.97114460e+05],\n",
              "       [1.00000000e+00, 0.00000000e+00, 0.00000000e+00, 1.19779085e+05,\n",
              "        0.00000000e+00],\n",
              "       [0.00000000e+00, 0.00000000e+00, 5.42050000e+02, 5.17431500e+04,\n",
              "        0.00000000e+00],\n",
              "       [1.00000000e+00, 0.00000000e+00, 0.00000000e+00, 1.16983800e+05,\n",
              "        4.51730600e+04]])"
            ]
          },
          "metadata": {
            "tags": []
          },
          "execution_count": 24
        }
      ]
    },
    {
      "cell_type": "code",
      "metadata": {
        "id": "6LDvd77-Xvbj"
      },
      "source": [
        "#splitting the data\r\n",
        "from sklearn.model_selection import train_test_split\r\n",
        "X_train,X_test,y_train,y_test = train_test_split(X, y, test_size=0.2, random_state =3)"
      ],
      "execution_count": 30,
      "outputs": []
    },
    {
      "cell_type": "code",
      "metadata": {
        "colab": {
          "base_uri": "https://localhost:8080/"
        },
        "id": "onH4UpfLYwvG",
        "outputId": "8d794691-9665-4763-f8cd-882bcc704bcc"
      },
      "source": [
        "#Checking the optimal value of max_depth for Decision Tree Regression\r\n",
        "for i in np.arange(1, 9, 2):\r\n",
        "    DTR = DecisionTreeRegressor(max_depth=i)\r\n",
        "    DTR.fit(X_train,y_train)\r\n",
        "    print(\"max_depth = \",i)\r\n",
        "    print(\"Training Score =\",DTR.score(X_train,y_train))\r\n",
        "    print(\"TEsting Score = \",DTR.score(X_test,y_test))"
      ],
      "execution_count": 35,
      "outputs": [
        {
          "output_type": "stream",
          "text": [
            "max_depth =  1\n",
            "Training Score = 0.6264340028069876\n",
            "TEsting Score =  0.35669450173701656\n",
            "max_depth =  3\n",
            "Training Score = 0.9657499666378324\n",
            "TEsting Score =  0.8638686541057761\n",
            "max_depth =  5\n",
            "Training Score = 0.9988168456744735\n",
            "TEsting Score =  0.7720220112879914\n",
            "max_depth =  7\n",
            "Training Score = 0.999995611576857\n",
            "TEsting Score =  0.7523484532827845\n"
          ],
          "name": "stdout"
        }
      ]
    },
    {
      "cell_type": "markdown",
      "metadata": {
        "id": "Jf84vn4seTY8"
      },
      "source": [
        "a max_depth of 3 is the best model without overfitting on the training data."
      ]
    },
    {
      "cell_type": "code",
      "metadata": {
        "colab": {
          "base_uri": "https://localhost:8080/"
        },
        "id": "KPQZ5k-8Yf_Q",
        "outputId": "76ee484f-e5f9-49c7-ea77-fb39140b3ec3"
      },
      "source": [
        "from sklearn.tree import DecisionTreeRegressor\r\n",
        "DTR = DecisionTreeRegressor(max_depth=3)\r\n",
        "DTR.fit(X_train,y_train)"
      ],
      "execution_count": 26,
      "outputs": [
        {
          "output_type": "execute_result",
          "data": {
            "text/plain": [
              "DecisionTreeRegressor(ccp_alpha=0.0, criterion='mse', max_depth=3,\n",
              "                      max_features=None, max_leaf_nodes=None,\n",
              "                      min_impurity_decrease=0.0, min_impurity_split=None,\n",
              "                      min_samples_leaf=1, min_samples_split=2,\n",
              "                      min_weight_fraction_leaf=0.0, presort='deprecated',\n",
              "                      random_state=None, splitter='best')"
            ]
          },
          "metadata": {
            "tags": []
          },
          "execution_count": 26
        }
      ]
    },
    {
      "cell_type": "code",
      "metadata": {
        "colab": {
          "base_uri": "https://localhost:8080/"
        },
        "id": "AbUyrfIwaWi2",
        "outputId": "6d8ccd00-925f-40d4-f6bf-a26cfeb6cbcb"
      },
      "source": [
        "#Checking the optimal value of n_estimators for Random Forest\r\n",
        "from sklearn.ensemble import RandomForestRegressor\r\n",
        "for i in range(2,11):\r\n",
        "    RF=RandomForestRegressor(n_estimators=3)\r\n",
        "    RF.fit(X_train,y_train.ravel())\r\n",
        "    print(\"n_estimator = \",i)\r\n",
        "    print(\"Training Score =\",RF.score(X_train,y_train))\r\n",
        "    print(\"TEsting Score = \",RF.score(X_test,y_test))"
      ],
      "execution_count": 34,
      "outputs": [
        {
          "output_type": "stream",
          "text": [
            "n_estimator =  2\n",
            "Training Score = 0.9878511505569528\n",
            "TEsting Score =  0.8494907503135096\n",
            "n_estimator =  3\n",
            "Training Score = 0.96642990132318\n",
            "TEsting Score =  0.8752870493212767\n",
            "n_estimator =  4\n",
            "Training Score = 0.9301889606621487\n",
            "TEsting Score =  0.8462019452705594\n",
            "n_estimator =  5\n",
            "Training Score = 0.9412512156117723\n",
            "TEsting Score =  0.9143804078812297\n",
            "n_estimator =  6\n",
            "Training Score = 0.9762379820505408\n",
            "TEsting Score =  0.8711481046262982\n",
            "n_estimator =  7\n",
            "Training Score = 0.9854376402383088\n",
            "TEsting Score =  0.8117667263162074\n",
            "n_estimator =  8\n",
            "Training Score = 0.9794964589427201\n",
            "TEsting Score =  0.9363875828944894\n",
            "n_estimator =  9\n",
            "Training Score = 0.9802677285726649\n",
            "TEsting Score =  0.9012176920073421\n",
            "n_estimator =  10\n",
            "Training Score = 0.9770325822743922\n",
            "TEsting Score =  0.8786467711408856\n"
          ],
          "name": "stdout"
        }
      ]
    },
    {
      "cell_type": "markdown",
      "metadata": {
        "id": "jLbN86tmbQDb"
      },
      "source": [
        "\r\n",
        "\r\n",
        "> Conclusion\r\n",
        "\r\n",
        "For the given data set with only 50 data points, as we increase the max depth of the Decision Tree, it starts overfitting on the training set. This is because Decision Tree uses only one Tree. \r\n",
        "Random Forest overcomes this problem by creating multiple trees and implementing a voting system, thus creating a much more balanced resultant Tree. Missing data(NaN values) were replaced by imputing (method = average) i.e. replacing them with averages of their column. Dummy columns that provided no real use to the model were dropped.  \r\n",
        "\r\n",
        "Here, keeping n_estimator as 5, i.e. 5 trees for the Random forest, brings about a satisfactory model that doesn't overfit and achieves a 3% error difference between the training and the test set.\r\n",
        "\r\n"
      ]
    }
  ]
}